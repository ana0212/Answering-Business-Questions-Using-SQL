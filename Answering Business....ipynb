{
 "cells": [
  {
   "cell_type": "markdown",
   "metadata": {},
   "source": [
    "# Answering Business Questions with SQL\n",
    "## Introduction\n",
    "- In this project, we'll answer business questions about a fictional digital music shop (Chinook) that just signed a deal with a new record label. \n",
    "- Our goal is to answer the questions to provide the necessary knowledge about costumers, sales and employess of the digital music shop to our new partner.\n",
    "- This project is directed to department heads and those responsible for the deal.\n",
    "- The main questions to be responded are:\n",
    "    1. What are the three albums of the new record label that should be added to the store?\n",
    "    2. How are the number of sales of the employees? Which agent performs better?\n",
    "    3. Which country demonstrates the highest total sales? And the highest number of customers?\n",
    "    4. What percentage of purchases are from individual tracks and what are from the whole album? Is more worthy purchase only the most popular tracks or the whole album?\n",
    "    5. Which artist is used in the most playlists? \n",
    "    6. How many tracks have been purchased vs. not purchased? "
   ]
  },
  {
   "cell_type": "markdown",
   "metadata": {},
   "source": [
    "## Introducing the data\n",
    "- We'll use [this](https://github.com/lerocha/chinook-database) database about the fictional digital music shop. The database is provided as a SQLite database file called chinook.db.\n",
    "- Here's a schema diagram for the Chinook database, which is composed by eleven tables:\n",
    "![](https://lh3.googleusercontent.com/fife/AAWUweWhHZohZYNfklKPvaLf0GEHC9uiBng0e0HIm0uu8ueyJF8f1kA2VmUeNTDYME84yCbRyH4UzFK2xpv_RTXHz6VyzFedeDqwgdXbvAaGHJCwNlDe34sMTytC2k-m0MyIXuLZsMbKBEtNC6w8vsL5T_c8dGgU7dqP39QbGvm-DLmjQjYaz4XPcMmzzKQefex2Dr8MJuW4ghnZuo5ZFOjuMzmIpaio9nDgfej_0A4qKHm8DhP4Ml8-JHp3y0jnNB8LgAUqIidBpypqk2XMrtWB31ufiGMio096jAXQsR_oO0A5q6gqC_iwdGJm59SFAKz8-F_o_1w3jMH1nZGUgqUPFqgMGrGxR4_njy-SnnVAxhYr246WXZ2skCfB60Nd5zsEUrWTl4Cju7UDj-ExJGXIvcd1X2vsEUvtRtBsI8gLxFiZRfWTd_-chesvy6vp-7KPJe0ysMIAdpXmLltiLYQSiPxs34RNc9YpynzqVHaOt-z4e0lIzgiKojsBdt_XFtrXWxoIgUrLhnmbDkbDEJ70pfX8eV1BAfIjyZMrsdluLEI9SOfUIXmJ4GIbBXvTLL7wMP_ARCT5z3WVUGOv6sN9ZKHj49S-5WR6y9YVsGIiyzGn9kvKbRIin-sBPjam8xZmbOecblEPlKc9c0FfBZB_ylHfnTrmqENQxqpRHEIsHRrah6YqZdJotW_bV4QLC5oxK5UllVFKRv76-Sw4gCTsqhFIf9mntxq8aXfIDrkdiLhtRdVbdv8ieNWKxJMH6Lfel1H_I9c5nJafE_Jn19RbPBDQedH4kesm7_Zm8pZXg5UWCVkfJWiP2jmoZeSQj0MULReOo-1UpHnrBRgTbn0Ah61z-trUCZ_mDXIk1aW2mSe_GjTvn4gllK2QcpklJqphsG0A7q7tKGg4N9D7a2smzw640dxdpvHgNjyDbINDe0qcgi13Sse47d-Q54Sdj0st_mcFnyJfwkZvgb6Azr4dievFnlifXsYbVKNXutHWSgnUXQGo-164h19hSzEs3tgTyO_V99AN8NP3QzQ5gNdcY2SwezOH2-LfrFnHceI0AygDDyC5I0fYeaLRGoQX-4XkIPGF0aFmnIWmUSoFYih5o0KTIpB2vpd7oGv2HdSA85JjfUqS4yCaVgUUuOqVrsqBfGdzvWkgjpO8bCdHjazCzNgnYhvtMuRQn8M-hd5hkouA-vSBEr7hfvUDF6SlaHoErGAcdQxf6tmT1uLGKlauXn4gEVtW50Hwr60awvQEvuKCp3D5Xewkv_cTB7Em0JPjUiOetaFlhrMdsnpSdUxzuvfhPZIcqLopvLf-HHNY87gbCrXQGf_4_gzQA8OEj_fmSReKxSP7YF-2n-YNVAhRMIur0t1EzaW3pBjtyDrDyUSl-60mb8b0Q5k6DM3Ytn6EvuQY_MttGjbyXrhe761-087o7uQcnDRq-dl0fsHB8pPMLheA_GOEcOFEGJ2YtOX5LJzVb_i7XoAB1fzBQmC4Ctnsnj5BhoQy6FHsEypmGYRAbSk7mDtzhSBaCGT_h9RYBMLwE1NM7wT1nHB7C7cgmrDA66JA7Y9uaMJ4ZRR2yPpGnH3vcWFsoSuU7U9JCUDYzaWUI3L6_cRiOQHTOwdEANQWVuCXeSb_VAJbgO89CMVzo9Ebyy5HN1N9GreRTd4zHVkcswtDranCt48QnHbW_bZHCffXCo3Sg9B0s_alEI6OSIm767B1uc7WM-KdaRaMN7PjcvvHC20NH1dEf-zO-zDKrKITZPvGs4WGWFOJRkj412OIIbR_GrLTMNqweDQEhDTnbTzNiAgwIq8ON-fAjwf6chIcdO4mL9XMM7HTTMF_FuWjOyM9odZaUWqyD4wCFpzypFgqUKa21KYFYkKiVkKE1yZA3bEFCHkAmhqUC_jBmJdsXSYyZgfE3M8zExiqsHZW49p9AnPNU66ioHXQBBHFugQ0xlkbKI4Q38CA9kk6uPBOPbx6dFLBKAw9Cap_ckyv6ddde-h9iARnqFymtdqynFLpdS_5jpiydnAtqTb-fUe5rWI3E5Oqg44Yw4kANdtXfkoHKpeafOgzL6sCLl94V2Q-60n1R8zB6keko5d5wwwFSSR4FEhonFKi7gYZ_scNe_er2bif0Mh5CbuCj_2kQYuH1bZjPaiJq7_Py2EkY9PKM-RonTiCKD_ArAVsFHRvcHXvb0Rze5mZlRy4Tz55gmImdUcbPW3m2RElt7YmVHPZ_pQvqG2CD7BQkFluOKlDXd7ZAHgbZCaSywQMlNDDE-XsrdetoUBzh53fxxGD_v-XZbmkOQiO8eN2hYkWlam8SOQpxLQjb-2zs9FJEbxUQpZZxCa3uqeGPpggrs8MlZ5Q-PKu6YrMuUtZzi4bat_fH8D779bCBNSSSVzdZxaHl0mFK3wln3GJbNPIbQXHLKJcMTP_pqFic8cGrnUhxOFKxnwkerV6hg49M84E2jQN2CMPOi2j9OBRZhe6d-X2SyV0dlOqStZKiqhLpQztkSjEsUi-yfNFjN5ensf59gZqtwc2fdPnHNNBcWhRmAGPUhH7Axtc_bh43v5QoVuDCcWBhl11-R8Z9iNFqnKerHaVcF7sleoXhi6vLNrGEBp0QFq8z68JR-SYKnIDvX2ZAF_NkU5UFvFzR8Gn_TDTn22lm_mHzZK7CfrRyATke7B_4Ik_TdKY5e03bLULi_HzqxKnqTT56wxs_6edr7iJk8QqE0HcrJ_sVsHPa9RGlqAkCEigAm9cXeRrj5iH5CKreHNCKYoAPPOBZTXOTF-oHBDGEwjdhKrCEABD-75uj1yIrCRM0H1OrKiRjc72IPWgBb7hMD4U9Y5KXZ2OeaHy0zqbVhUegvGCqjdHd_roTE4Jt1lvc_-_SmYmCjeQ9sx43WJjIwG61F113uO98A3XLJFyJCcdh8o45f5kWE8rKp2HxuMdvEcpjJabNzQX3Q2i702zG2y6258eCTxOr9Qh1BoTOUq46DxN_6X8gKunE14K4sRrGUTxLjM9_8WNYxeJ1nj6PCw-szeFHh5Xg8ngAST5-okGW-nLzwzq0q4iI5Ctsd-magTImggvz0XZMD0OvJno-iCvLsmv2bTsthyGImzLOByIKjzqOACbo9imCwKhgfbQAAgc9dyz7jGjS56dqZeo44KvQzUv7cuxOBE1CXqP-Yvs_uvFZf9eweMqrLaMJQNCNuTUKzqwjpz6I7rG2bXNQd9VNGK0VK9CNM1ZyiHhg5sMu53hlzMW6U8QfdHgTtmsH7u13XyaJdUOidgSL-2Hc6neFP-an3IxixI-UC0QEsji-RPM1fnegrFBUXJNnkr-5hmuLqoisE0EyQMs2xKjy9v3lu82z_0kHhBepe_0y90_Z3sMe9y3xQDqeqEUrwOxic-jYgXYQkF36l58tfAz5SwOCb-Pj7xSjaCZAzUhReOoKzbwa18tnBIIHZgWIKQepYGKjPLFgQj0l1NxwBax4AOPQ0Evmdgw8Q9mE5VPR_8WWa9s13y55B4UmANHhIOnJJOsYcRDG9vS3piY195Q7Y-gR8QSv9MwSrpqrEGJ0fLzSA_i15GCzQda80zEFaPV-PJES1A0yAn0fImnPM7lQTNtGJ_p802QobZ23pjvgHjSvK_FjuWXMi4u2cIuc9AIsTDBFbGdxBytM39CRxBqwm_dUKsU3-qVzu2SyohSTblqTRLxLu0UNgVTmlzO0ABCs3-19Ts1QtpPQqb8CuRl0bnQhs4BIBFP9eeWo7uwqE-TT4zA8ialxiU=s448-w447-h448-no?authuser=0)"
   ]
  },
  {
   "cell_type": "code",
   "execution_count": 1,
   "metadata": {
    "collapsed": false,
    "jupyter": {
     "outputs_hidden": false
    }
   },
   "outputs": [],
   "source": [
    "%%capture\n",
    "%load_ext sql\n",
    "%sql sqlite:///chinook.db"
   ]
  },
  {
   "cell_type": "code",
   "execution_count": 2,
   "metadata": {},
   "outputs": [],
   "source": [
    "# importing the Python libraries for Data Visualization\n",
    "import pandas as pd\n",
    "import numpy as np\n",
    "import matplotlib.pyplot as plt\n",
    "%matplotlib inline\n",
    "import matplotlib.style as style\n",
    "import seaborn as sns"
   ]
  },
  {
   "cell_type": "code",
   "execution_count": 3,
   "metadata": {
    "collapsed": false,
    "jupyter": {
     "outputs_hidden": false
    }
   },
   "outputs": [
    {
     "name": "stdout",
     "output_type": "stream",
     "text": [
      " * sqlite:///chinook.db\n",
      "Done.\n"
     ]
    },
    {
     "data": {
      "text/html": [
       "<table>\n",
       "    <thead>\n",
       "        <tr>\n",
       "            <th>name</th>\n",
       "            <th>type</th>\n",
       "        </tr>\n",
       "    </thead>\n",
       "    <tbody>\n",
       "        <tr>\n",
       "            <td>album</td>\n",
       "            <td>table</td>\n",
       "        </tr>\n",
       "        <tr>\n",
       "            <td>artist</td>\n",
       "            <td>table</td>\n",
       "        </tr>\n",
       "        <tr>\n",
       "            <td>customer</td>\n",
       "            <td>table</td>\n",
       "        </tr>\n",
       "        <tr>\n",
       "            <td>employee</td>\n",
       "            <td>table</td>\n",
       "        </tr>\n",
       "        <tr>\n",
       "            <td>genre</td>\n",
       "            <td>table</td>\n",
       "        </tr>\n",
       "        <tr>\n",
       "            <td>invoice</td>\n",
       "            <td>table</td>\n",
       "        </tr>\n",
       "        <tr>\n",
       "            <td>invoice_line</td>\n",
       "            <td>table</td>\n",
       "        </tr>\n",
       "        <tr>\n",
       "            <td>media_type</td>\n",
       "            <td>table</td>\n",
       "        </tr>\n",
       "        <tr>\n",
       "            <td>playlist</td>\n",
       "            <td>table</td>\n",
       "        </tr>\n",
       "        <tr>\n",
       "            <td>playlist_track</td>\n",
       "            <td>table</td>\n",
       "        </tr>\n",
       "        <tr>\n",
       "            <td>track</td>\n",
       "            <td>table</td>\n",
       "        </tr>\n",
       "    </tbody>\n",
       "</table>"
      ],
      "text/plain": [
       "[('album', 'table'),\n",
       " ('artist', 'table'),\n",
       " ('customer', 'table'),\n",
       " ('employee', 'table'),\n",
       " ('genre', 'table'),\n",
       " ('invoice', 'table'),\n",
       " ('invoice_line', 'table'),\n",
       " ('media_type', 'table'),\n",
       " ('playlist', 'table'),\n",
       " ('playlist_track', 'table'),\n",
       " ('track', 'table')]"
      ]
     },
     "execution_count": 3,
     "metadata": {},
     "output_type": "execute_result"
    }
   ],
   "source": [
    "%%sql\n",
    "SELECT\n",
    "    name,\n",
    "    type\n",
    "FROM sqlite_master\n",
    "WHERE type IN (\"table\",\"view\");"
   ]
  },
  {
   "cell_type": "markdown",
   "metadata": {},
   "source": [
    "- Now, we're going to print the first five rows of two tables, track (the one with more connections) and employee (the biggest one, with eleven columns)."
   ]
  },
  {
   "cell_type": "code",
   "execution_count": 4,
   "metadata": {},
   "outputs": [
    {
     "name": "stdout",
     "output_type": "stream",
     "text": [
      " * sqlite:///chinook.db\n",
      "Done.\n"
     ]
    },
    {
     "data": {
      "text/html": [
       "<table>\n",
       "    <thead>\n",
       "        <tr>\n",
       "            <th>track_id</th>\n",
       "            <th>name</th>\n",
       "            <th>album_id</th>\n",
       "            <th>media_type_id</th>\n",
       "            <th>genre_id</th>\n",
       "            <th>composer</th>\n",
       "            <th>milliseconds</th>\n",
       "            <th>bytes</th>\n",
       "            <th>unit_price</th>\n",
       "        </tr>\n",
       "    </thead>\n",
       "    <tbody>\n",
       "        <tr>\n",
       "            <td>1</td>\n",
       "            <td>For Those About To Rock (We Salute You)</td>\n",
       "            <td>1</td>\n",
       "            <td>1</td>\n",
       "            <td>1</td>\n",
       "            <td>Angus Young, Malcolm Young, Brian Johnson</td>\n",
       "            <td>343719</td>\n",
       "            <td>11170334</td>\n",
       "            <td>0.99</td>\n",
       "        </tr>\n",
       "        <tr>\n",
       "            <td>2</td>\n",
       "            <td>Balls to the Wall</td>\n",
       "            <td>2</td>\n",
       "            <td>2</td>\n",
       "            <td>1</td>\n",
       "            <td>None</td>\n",
       "            <td>342562</td>\n",
       "            <td>5510424</td>\n",
       "            <td>0.99</td>\n",
       "        </tr>\n",
       "        <tr>\n",
       "            <td>3</td>\n",
       "            <td>Fast As a Shark</td>\n",
       "            <td>3</td>\n",
       "            <td>2</td>\n",
       "            <td>1</td>\n",
       "            <td>F. Baltes, S. Kaufman, U. Dirkscneider &amp; W. Hoffman</td>\n",
       "            <td>230619</td>\n",
       "            <td>3990994</td>\n",
       "            <td>0.99</td>\n",
       "        </tr>\n",
       "        <tr>\n",
       "            <td>4</td>\n",
       "            <td>Restless and Wild</td>\n",
       "            <td>3</td>\n",
       "            <td>2</td>\n",
       "            <td>1</td>\n",
       "            <td>F. Baltes, R.A. Smith-Diesel, S. Kaufman, U. Dirkscneider &amp; W. Hoffman</td>\n",
       "            <td>252051</td>\n",
       "            <td>4331779</td>\n",
       "            <td>0.99</td>\n",
       "        </tr>\n",
       "        <tr>\n",
       "            <td>5</td>\n",
       "            <td>Princess of the Dawn</td>\n",
       "            <td>3</td>\n",
       "            <td>2</td>\n",
       "            <td>1</td>\n",
       "            <td>Deaffy &amp; R.A. Smith-Diesel</td>\n",
       "            <td>375418</td>\n",
       "            <td>6290521</td>\n",
       "            <td>0.99</td>\n",
       "        </tr>\n",
       "    </tbody>\n",
       "</table>"
      ],
      "text/plain": [
       "[(1, 'For Those About To Rock (We Salute You)', 1, 1, 1, 'Angus Young, Malcolm Young, Brian Johnson', 343719, 11170334, 0.99),\n",
       " (2, 'Balls to the Wall', 2, 2, 1, None, 342562, 5510424, 0.99),\n",
       " (3, 'Fast As a Shark', 3, 2, 1, 'F. Baltes, S. Kaufman, U. Dirkscneider & W. Hoffman', 230619, 3990994, 0.99),\n",
       " (4, 'Restless and Wild', 3, 2, 1, 'F. Baltes, R.A. Smith-Diesel, S. Kaufman, U. Dirkscneider & W. Hoffman', 252051, 4331779, 0.99),\n",
       " (5, 'Princess of the Dawn', 3, 2, 1, 'Deaffy & R.A. Smith-Diesel', 375418, 6290521, 0.99)]"
      ]
     },
     "execution_count": 4,
     "metadata": {},
     "output_type": "execute_result"
    }
   ],
   "source": [
    "%%sql\n",
    "SELECT *\n",
    "FROM track\n",
    "LIMIT 5;"
   ]
  },
  {
   "cell_type": "code",
   "execution_count": 5,
   "metadata": {},
   "outputs": [
    {
     "name": "stdout",
     "output_type": "stream",
     "text": [
      " * sqlite:///chinook.db\n",
      "Done.\n"
     ]
    },
    {
     "data": {
      "text/html": [
       "<table>\n",
       "    <thead>\n",
       "        <tr>\n",
       "            <th>employee_id</th>\n",
       "            <th>last_name</th>\n",
       "            <th>first_name</th>\n",
       "            <th>title</th>\n",
       "            <th>reports_to</th>\n",
       "            <th>birthdate</th>\n",
       "            <th>hire_date</th>\n",
       "            <th>address</th>\n",
       "            <th>city</th>\n",
       "            <th>state</th>\n",
       "            <th>country</th>\n",
       "            <th>postal_code</th>\n",
       "            <th>phone</th>\n",
       "            <th>fax</th>\n",
       "            <th>email</th>\n",
       "        </tr>\n",
       "    </thead>\n",
       "    <tbody>\n",
       "        <tr>\n",
       "            <td>1</td>\n",
       "            <td>Adams</td>\n",
       "            <td>Andrew</td>\n",
       "            <td>General Manager</td>\n",
       "            <td>None</td>\n",
       "            <td>1962-02-18 00:00:00</td>\n",
       "            <td>2016-08-14 00:00:00</td>\n",
       "            <td>11120 Jasper Ave NW</td>\n",
       "            <td>Edmonton</td>\n",
       "            <td>AB</td>\n",
       "            <td>Canada</td>\n",
       "            <td>T5K 2N1</td>\n",
       "            <td>+1 (780) 428-9482</td>\n",
       "            <td>+1 (780) 428-3457</td>\n",
       "            <td>andrew@chinookcorp.com</td>\n",
       "        </tr>\n",
       "        <tr>\n",
       "            <td>2</td>\n",
       "            <td>Edwards</td>\n",
       "            <td>Nancy</td>\n",
       "            <td>Sales Manager</td>\n",
       "            <td>1</td>\n",
       "            <td>1958-12-08 00:00:00</td>\n",
       "            <td>2016-05-01 00:00:00</td>\n",
       "            <td>825 8 Ave SW</td>\n",
       "            <td>Calgary</td>\n",
       "            <td>AB</td>\n",
       "            <td>Canada</td>\n",
       "            <td>T2P 2T3</td>\n",
       "            <td>+1 (403) 262-3443</td>\n",
       "            <td>+1 (403) 262-3322</td>\n",
       "            <td>nancy@chinookcorp.com</td>\n",
       "        </tr>\n",
       "        <tr>\n",
       "            <td>3</td>\n",
       "            <td>Peacock</td>\n",
       "            <td>Jane</td>\n",
       "            <td>Sales Support Agent</td>\n",
       "            <td>2</td>\n",
       "            <td>1973-08-29 00:00:00</td>\n",
       "            <td>2017-04-01 00:00:00</td>\n",
       "            <td>1111 6 Ave SW</td>\n",
       "            <td>Calgary</td>\n",
       "            <td>AB</td>\n",
       "            <td>Canada</td>\n",
       "            <td>T2P 5M5</td>\n",
       "            <td>+1 (403) 262-3443</td>\n",
       "            <td>+1 (403) 262-6712</td>\n",
       "            <td>jane@chinookcorp.com</td>\n",
       "        </tr>\n",
       "        <tr>\n",
       "            <td>4</td>\n",
       "            <td>Park</td>\n",
       "            <td>Margaret</td>\n",
       "            <td>Sales Support Agent</td>\n",
       "            <td>2</td>\n",
       "            <td>1947-09-19 00:00:00</td>\n",
       "            <td>2017-05-03 00:00:00</td>\n",
       "            <td>683 10 Street SW</td>\n",
       "            <td>Calgary</td>\n",
       "            <td>AB</td>\n",
       "            <td>Canada</td>\n",
       "            <td>T2P 5G3</td>\n",
       "            <td>+1 (403) 263-4423</td>\n",
       "            <td>+1 (403) 263-4289</td>\n",
       "            <td>margaret@chinookcorp.com</td>\n",
       "        </tr>\n",
       "        <tr>\n",
       "            <td>5</td>\n",
       "            <td>Johnson</td>\n",
       "            <td>Steve</td>\n",
       "            <td>Sales Support Agent</td>\n",
       "            <td>2</td>\n",
       "            <td>1965-03-03 00:00:00</td>\n",
       "            <td>2017-10-17 00:00:00</td>\n",
       "            <td>7727B 41 Ave</td>\n",
       "            <td>Calgary</td>\n",
       "            <td>AB</td>\n",
       "            <td>Canada</td>\n",
       "            <td>T3B 1Y7</td>\n",
       "            <td>1 (780) 836-9987</td>\n",
       "            <td>1 (780) 836-9543</td>\n",
       "            <td>steve@chinookcorp.com</td>\n",
       "        </tr>\n",
       "    </tbody>\n",
       "</table>"
      ],
      "text/plain": [
       "[(1, 'Adams', 'Andrew', 'General Manager', None, '1962-02-18 00:00:00', '2016-08-14 00:00:00', '11120 Jasper Ave NW', 'Edmonton', 'AB', 'Canada', 'T5K 2N1', '+1 (780) 428-9482', '+1 (780) 428-3457', 'andrew@chinookcorp.com'),\n",
       " (2, 'Edwards', 'Nancy', 'Sales Manager', 1, '1958-12-08 00:00:00', '2016-05-01 00:00:00', '825 8 Ave SW', 'Calgary', 'AB', 'Canada', 'T2P 2T3', '+1 (403) 262-3443', '+1 (403) 262-3322', 'nancy@chinookcorp.com'),\n",
       " (3, 'Peacock', 'Jane', 'Sales Support Agent', 2, '1973-08-29 00:00:00', '2017-04-01 00:00:00', '1111 6 Ave SW', 'Calgary', 'AB', 'Canada', 'T2P 5M5', '+1 (403) 262-3443', '+1 (403) 262-6712', 'jane@chinookcorp.com'),\n",
       " (4, 'Park', 'Margaret', 'Sales Support Agent', 2, '1947-09-19 00:00:00', '2017-05-03 00:00:00', '683 10 Street SW', 'Calgary', 'AB', 'Canada', 'T2P 5G3', '+1 (403) 263-4423', '+1 (403) 263-4289', 'margaret@chinookcorp.com'),\n",
       " (5, 'Johnson', 'Steve', 'Sales Support Agent', 2, '1965-03-03 00:00:00', '2017-10-17 00:00:00', '7727B 41 Ave', 'Calgary', 'AB', 'Canada', 'T3B 1Y7', '1 (780) 836-9987', '1 (780) 836-9543', 'steve@chinookcorp.com')]"
      ]
     },
     "execution_count": 5,
     "metadata": {},
     "output_type": "execute_result"
    }
   ],
   "source": [
    "%%sql\n",
    "SELECT *\n",
    "FROM employee\n",
    "LIMIT 5;"
   ]
  },
  {
   "cell_type": "markdown",
   "metadata": {
    "tags": []
   },
   "source": [
    "## Exploratory Data Analysis (EDA)\n",
    "- In this section, we'll explore the dataset to answer the questions and to know better the digital music shop. "
   ]
  },
  {
   "cell_type": "markdown",
   "metadata": {},
   "source": [
    "### 1. Selecting Albums to Purchase\n",
    "- From a list of four, we'll select the three albums of artists from the new record label that will be added to the store:\n",
    "| Artist      | Genre        |\n",
    "| ----------- | -----------  |\n",
    "| Regal       | Hip-Hop      |\n",
    "| Red Tone    | Punk         |\n",
    "| Meteor and the Girls | Pop |\n",
    "| Slim Jim Bites | Blues     |\n",
    "- First, we'll count the tracks sold in the USA (all the artists from the new record label are americans) and then count the percentage for each genre. We'll use the genre, invoice_line, invoice and customer tables."
   ]
  },
  {
   "cell_type": "code",
   "execution_count": 6,
   "metadata": {
    "collapsed": false,
    "jupyter": {
     "outputs_hidden": false
    }
   },
   "outputs": [
    {
     "name": "stdout",
     "output_type": "stream",
     "text": [
      " * sqlite:///chinook.db\n",
      "Done.\n"
     ]
    },
    {
     "data": {
      "text/html": [
       "<table>\n",
       "    <thead>\n",
       "        <tr>\n",
       "            <th>genre</th>\n",
       "            <th>tracks_sold</th>\n",
       "            <th>percentage_sold</th>\n",
       "        </tr>\n",
       "    </thead>\n",
       "    <tbody>\n",
       "        <tr>\n",
       "            <td>Rock</td>\n",
       "            <td>561</td>\n",
       "            <td>53.4</td>\n",
       "        </tr>\n",
       "        <tr>\n",
       "            <td>Alternative &amp; Punk</td>\n",
       "            <td>130</td>\n",
       "            <td>12.4</td>\n",
       "        </tr>\n",
       "        <tr>\n",
       "            <td>Metal</td>\n",
       "            <td>124</td>\n",
       "            <td>11.8</td>\n",
       "        </tr>\n",
       "        <tr>\n",
       "            <td>R&amp;B/Soul</td>\n",
       "            <td>53</td>\n",
       "            <td>5.0</td>\n",
       "        </tr>\n",
       "        <tr>\n",
       "            <td>Blues</td>\n",
       "            <td>36</td>\n",
       "            <td>3.4</td>\n",
       "        </tr>\n",
       "        <tr>\n",
       "            <td>Alternative</td>\n",
       "            <td>35</td>\n",
       "            <td>3.3</td>\n",
       "        </tr>\n",
       "        <tr>\n",
       "            <td>Pop</td>\n",
       "            <td>22</td>\n",
       "            <td>2.1</td>\n",
       "        </tr>\n",
       "        <tr>\n",
       "            <td>Latin</td>\n",
       "            <td>22</td>\n",
       "            <td>2.1</td>\n",
       "        </tr>\n",
       "        <tr>\n",
       "            <td>Hip Hop/Rap</td>\n",
       "            <td>20</td>\n",
       "            <td>1.9</td>\n",
       "        </tr>\n",
       "        <tr>\n",
       "            <td>Jazz</td>\n",
       "            <td>14</td>\n",
       "            <td>1.3</td>\n",
       "        </tr>\n",
       "    </tbody>\n",
       "</table>"
      ],
      "text/plain": [
       "[('Rock', 561, 53.4),\n",
       " ('Alternative & Punk', 130, 12.4),\n",
       " ('Metal', 124, 11.8),\n",
       " ('R&B/Soul', 53, 5.0),\n",
       " ('Blues', 36, 3.4),\n",
       " ('Alternative', 35, 3.3),\n",
       " ('Pop', 22, 2.1),\n",
       " ('Latin', 22, 2.1),\n",
       " ('Hip Hop/Rap', 20, 1.9),\n",
       " ('Jazz', 14, 1.3)]"
      ]
     },
     "execution_count": 6,
     "metadata": {},
     "output_type": "execute_result"
    }
   ],
   "source": [
    "%%sql\n",
    "\n",
    "WITH usa_tracks_sold AS\n",
    "   (\n",
    "    SELECT il.* FROM invoice_line il\n",
    "    INNER JOIN invoice i on il.invoice_id = i.invoice_id\n",
    "    INNER JOIN customer c on i.customer_id = c.customer_id\n",
    "    WHERE c.country = \"USA\"\n",
    "   )\n",
    "\n",
    "SELECT\n",
    "    g.name genre,\n",
    "    count(uts.invoice_line_id) tracks_sold,\n",
    "    ROUND(cast(count(uts.invoice_line_id) AS FLOAT) *100 / (\n",
    "        SELECT COUNT(*) from usa_tracks_sold\n",
    "    ),1) percentage_sold\n",
    "FROM usa_tracks_sold uts\n",
    "INNER JOIN track t on t.track_id = uts.track_id\n",
    "INNER JOIN genre g on g.genre_id = t.genre_id\n",
    "GROUP BY 1\n",
    "ORDER BY 2 DESC\n",
    "LIMIT 10;"
   ]
  },
  {
   "cell_type": "markdown",
   "metadata": {},
   "source": [
    "- The result shows that the most popular genres in the USA are Rock (53,4%), Alternative & Punk (12,4%) and Metal (11,8%). Between the list of four that we receive, we should choose:\n",
    "    - Red Tone-Punk\n",
    "    - Slim Jim Bites-Blues\n",
    "    - Meteor and the Girls-Pop\n",
    "- Besides that, we should aware that the gap between Rock and the other genres is big, and the difference between Blues, Pop and Hip-Hop/Rap is only 1.5%. So, in our list, only the Punk artist represent a genre more expressive in the sales. As an advice, we should recommend to look for artists and albums in the Rock genre, that represents more than 50% of the US sales."
   ]
  },
  {
   "cell_type": "markdown",
   "metadata": {},
   "source": [
    "### 2. Analyzing Employee Sales Performance\n",
    "- Now, we'll analyze the purchase of customers belonging to each employee to see if any sales support agent is performing either better or worse than the others.\n",
    "- We'll select the total of the sales associated with each employee and show the full name with the sum of the sales, the percentage and the hire date for each employee. We'll use the employee, invoice and customer tables."
   ]
  },
  {
   "cell_type": "code",
   "execution_count": 7,
   "metadata": {
    "collapsed": false,
    "jupyter": {
     "outputs_hidden": false
    }
   },
   "outputs": [
    {
     "name": "stdout",
     "output_type": "stream",
     "text": [
      " * sqlite:///chinook.db\n",
      "Done.\n"
     ]
    },
    {
     "data": {
      "text/html": [
       "<table>\n",
       "    <thead>\n",
       "        <tr>\n",
       "            <th>employee</th>\n",
       "            <th>hire_date</th>\n",
       "            <th>total_sales</th>\n",
       "            <th>pct_sales</th>\n",
       "        </tr>\n",
       "    </thead>\n",
       "    <tbody>\n",
       "        <tr>\n",
       "            <td>Jane Peacock</td>\n",
       "            <td>2017-04-01 00:00:00</td>\n",
       "            <td>1732.0</td>\n",
       "            <td>37.0</td>\n",
       "        </tr>\n",
       "        <tr>\n",
       "            <td>Margaret Park</td>\n",
       "            <td>2017-05-03 00:00:00</td>\n",
       "            <td>1584.0</td>\n",
       "            <td>34.0</td>\n",
       "        </tr>\n",
       "        <tr>\n",
       "            <td>Steve Johnson</td>\n",
       "            <td>2017-10-17 00:00:00</td>\n",
       "            <td>1394.0</td>\n",
       "            <td>30.0</td>\n",
       "        </tr>\n",
       "    </tbody>\n",
       "</table>"
      ],
      "text/plain": [
       "[('Jane Peacock', '2017-04-01 00:00:00', 1732.0, 37.0),\n",
       " ('Margaret Park', '2017-05-03 00:00:00', 1584.0, 34.0),\n",
       " ('Steve Johnson', '2017-10-17 00:00:00', 1394.0, 30.0)]"
      ]
     },
     "execution_count": 7,
     "metadata": {},
     "output_type": "execute_result"
    }
   ],
   "source": [
    "%%sql\n",
    "\n",
    "WITH customer_support_rep_sales AS\n",
    "   (\n",
    "    SELECT\n",
    "        i.customer_id,\n",
    "        c.support_rep_id,\n",
    "        SUM(i.total) total,\n",
    "        ROUND(SUM(i.total), 0) total_sales\n",
    "    FROM invoice i\n",
    "    INNER JOIN customer c ON i.customer_id = c.customer_id\n",
    "    GROUP BY 1,2\n",
    "   )\n",
    "\n",
    "SELECT\n",
    "    e.first_name || \" \" || e.last_name employee,\n",
    "    e.hire_date,\n",
    "    ROUND(SUM(csrs.total), 0) total_sales,\n",
    "    ROUND(SUM(csrs.total) * 100.0 / (SELECT SUM(total_sales)\n",
    "                                    FROM customer_support_rep_sales), 0) pct_sales\n",
    "FROM customer_support_rep_sales csrs\n",
    "INNER JOIN employee e ON e.employee_id = csrs.support_rep_id\n",
    "GROUP BY 1;\n"
   ]
  },
  {
   "cell_type": "markdown",
   "metadata": {},
   "source": [
    "- We can see that the total sales of each employee is balanced, but we should consider that the employee that sells most (Jane Peacock) was hired six months before the third employee (Steve Johnson)."
   ]
  },
  {
   "cell_type": "markdown",
   "metadata": {},
   "source": [
    "### 3. Analyzing Sales by Country\n",
    "- We're going to analyse the sales and customers of our store by country, to plan a marketing campaign.\n",
    "- We'll generate a table with the countries, total sales per country, the percentage of the sales, total of customers for country, the percentage of customers, the rate between sales and customers and the average order. For that, we'll use the customer, invoice and invoice_line tables."
   ]
  },
  {
   "cell_type": "code",
   "execution_count": 8,
   "metadata": {
    "collapsed": false,
    "jupyter": {
     "outputs_hidden": false
    }
   },
   "outputs": [
    {
     "name": "stdout",
     "output_type": "stream",
     "text": [
      " * sqlite:///chinook.db\n",
      "Done.\n"
     ]
    },
    {
     "data": {
      "text/html": [
       "<table>\n",
       "    <thead>\n",
       "        <tr>\n",
       "            <th>country</th>\n",
       "            <th>customers</th>\n",
       "            <th>total_sales</th>\n",
       "            <th>average_order</th>\n",
       "            <th>customer_lifetime_value</th>\n",
       "        </tr>\n",
       "    </thead>\n",
       "    <tbody>\n",
       "        <tr>\n",
       "            <td>USA</td>\n",
       "            <td>13</td>\n",
       "            <td>1040.490000000008</td>\n",
       "            <td>7.942671755725252</td>\n",
       "            <td>80.03769230769292</td>\n",
       "        </tr>\n",
       "        <tr>\n",
       "            <td>Canada</td>\n",
       "            <td>8</td>\n",
       "            <td>535.5900000000034</td>\n",
       "            <td>7.047236842105309</td>\n",
       "            <td>66.94875000000043</td>\n",
       "        </tr>\n",
       "        <tr>\n",
       "            <td>Brazil</td>\n",
       "            <td>5</td>\n",
       "            <td>427.68000000000245</td>\n",
       "            <td>7.011147540983647</td>\n",
       "            <td>85.53600000000048</td>\n",
       "        </tr>\n",
       "        <tr>\n",
       "            <td>France</td>\n",
       "            <td>5</td>\n",
       "            <td>389.0700000000021</td>\n",
       "            <td>7.781400000000042</td>\n",
       "            <td>77.81400000000042</td>\n",
       "        </tr>\n",
       "        <tr>\n",
       "            <td>Germany</td>\n",
       "            <td>4</td>\n",
       "            <td>334.6200000000016</td>\n",
       "            <td>8.161463414634186</td>\n",
       "            <td>83.6550000000004</td>\n",
       "        </tr>\n",
       "        <tr>\n",
       "            <td>Czech Republic</td>\n",
       "            <td>2</td>\n",
       "            <td>273.24000000000103</td>\n",
       "            <td>9.108000000000034</td>\n",
       "            <td>136.62000000000052</td>\n",
       "        </tr>\n",
       "        <tr>\n",
       "            <td>United Kingdom</td>\n",
       "            <td>3</td>\n",
       "            <td>245.52000000000078</td>\n",
       "            <td>8.768571428571457</td>\n",
       "            <td>81.84000000000026</td>\n",
       "        </tr>\n",
       "        <tr>\n",
       "            <td>Portugal</td>\n",
       "            <td>2</td>\n",
       "            <td>185.13000000000022</td>\n",
       "            <td>6.3837931034482835</td>\n",
       "            <td>92.56500000000011</td>\n",
       "        </tr>\n",
       "        <tr>\n",
       "            <td>India</td>\n",
       "            <td>2</td>\n",
       "            <td>183.1500000000002</td>\n",
       "            <td>8.72142857142858</td>\n",
       "            <td>91.5750000000001</td>\n",
       "        </tr>\n",
       "        <tr>\n",
       "            <td>Other</td>\n",
       "            <td>15</td>\n",
       "            <td>1094.9400000000085</td>\n",
       "            <td>7.448571428571486</td>\n",
       "            <td>72.99600000000056</td>\n",
       "        </tr>\n",
       "    </tbody>\n",
       "</table>"
      ],
      "text/plain": [
       "[('USA', 13, 1040.490000000008, 7.942671755725252, 80.03769230769292),\n",
       " ('Canada', 8, 535.5900000000034, 7.047236842105309, 66.94875000000043),\n",
       " ('Brazil', 5, 427.68000000000245, 7.011147540983647, 85.53600000000048),\n",
       " ('France', 5, 389.0700000000021, 7.781400000000042, 77.81400000000042),\n",
       " ('Germany', 4, 334.6200000000016, 8.161463414634186, 83.6550000000004),\n",
       " ('Czech Republic', 2, 273.24000000000103, 9.108000000000034, 136.62000000000052),\n",
       " ('United Kingdom', 3, 245.52000000000078, 8.768571428571457, 81.84000000000026),\n",
       " ('Portugal', 2, 185.13000000000022, 6.3837931034482835, 92.56500000000011),\n",
       " ('India', 2, 183.1500000000002, 8.72142857142858, 91.5750000000001),\n",
       " ('Other', 15, 1094.9400000000085, 7.448571428571486, 72.99600000000056)]"
      ]
     },
     "execution_count": 8,
     "metadata": {},
     "output_type": "execute_result"
    }
   ],
   "source": [
    "%%sql\n",
    "\n",
    "WITH country_or_other AS\n",
    "   (\n",
    "    SELECT\n",
    "        CASE\n",
    "            WHEN (\n",
    "                  SELECT count(*)\n",
    "                  FROM customer\n",
    "                  where country = c.country\n",
    "                 ) = 1 THEN \"Other\"\n",
    "            ELSE c.country\n",
    "        END AS country,\n",
    "        c.customer_id,\n",
    "        il.*\n",
    "    FROM invoice_line il\n",
    "    INNER JOIN invoice i ON i.invoice_id = il.invoice_id\n",
    "    INNER JOIN customer c ON c.customer_id = i.customer_id\n",
    "   )\n",
    "\n",
    "SELECT\n",
    "    country,\n",
    "    customers,\n",
    "    total_sales,\n",
    "    average_order,\n",
    "    customer_lifetime_value\n",
    "FROM\n",
    "   (\n",
    "    SELECT\n",
    "        country,\n",
    "        count(distinct customer_id) customers,\n",
    "        SUM(unit_price) total_sales,\n",
    "        SUM(unit_price) / count(distinct customer_id) customer_lifetime_value,\n",
    "        SUM(unit_price) / count(distinct invoice_id) average_order,\n",
    "        CASE\n",
    "            WHEN country = \"Other\" THEN 1\n",
    "            ELSE 0\n",
    "        END AS sort\n",
    "    FROM country_or_other\n",
    "    GROUP BY country\n",
    "    ORDER BY sort ASC, total_sales DESC\n",
    "   );"
   ]
  },
  {
   "cell_type": "markdown",
   "metadata": {},
   "source": [
    "- Looking at the table we generate, we can see that the USA leads the numbers of customers and the total sales, as expected it's the most important market for the store. We think it's most profitable concentre our marketing campaign on the american market.\n",
    "- Other number to notice is the average order for Czech Republic (9.1), with only two customers. "
   ]
  },
  {
   "cell_type": "markdown",
   "metadata": {},
   "source": [
    "### 4. Albums vs. Individual Tracks\n",
    "- In chinook, customers can purchase a whole album or purchase a collection of one or more individual tracks. The store doesn't let customers purchase the whole album and then add individual tracks to that same purchase (unless they do that by choosing each track manually). When customers purchase albums they are charged the same price as if they had purchased each of those tracks separately. Management is currently considering changing their purchasing strategy so that the store would purchase only the most popular tracks from each album from record companies, instead of purchasing every track from an album. \n",
    "- Our task is to find out what percentage of purchases are individual tracks vs. whole albums, so the management can use this data to understand the effect of this decision might have on overall revenue.\n",
    "- We'll classify if a track came from an album purchase and count the two categories to find the percentage. The tables invoice_line, track and album will be used."
   ]
  },
  {
   "cell_type": "code",
   "execution_count": 9,
   "metadata": {
    "collapsed": false,
    "jupyter": {
     "outputs_hidden": false
    }
   },
   "outputs": [
    {
     "name": "stdout",
     "output_type": "stream",
     "text": [
      " * sqlite:///chinook.db\n",
      "Done.\n"
     ]
    },
    {
     "data": {
      "text/html": [
       "<table>\n",
       "    <thead>\n",
       "        <tr>\n",
       "            <th>album_purchase</th>\n",
       "            <th>number_of_invoices</th>\n",
       "            <th>percent</th>\n",
       "        </tr>\n",
       "    </thead>\n",
       "    <tbody>\n",
       "        <tr>\n",
       "            <td>no</td>\n",
       "            <td>500</td>\n",
       "            <td>81.4</td>\n",
       "        </tr>\n",
       "        <tr>\n",
       "            <td>yes</td>\n",
       "            <td>114</td>\n",
       "            <td>18.6</td>\n",
       "        </tr>\n",
       "    </tbody>\n",
       "</table>"
      ],
      "text/plain": [
       "[('no', 500, 81.4), ('yes', 114, 18.6)]"
      ]
     },
     "execution_count": 9,
     "metadata": {},
     "output_type": "execute_result"
    }
   ],
   "source": [
    "%%sql\n",
    "\n",
    "WITH invoice_first_track AS\n",
    "   (\n",
    "    SELECT\n",
    "        il.invoice_id invoice_id,\n",
    "        MIN(il.track_id) first_track_id\n",
    "    FROM invoice_line il\n",
    "    GROUP BY 1\n",
    "   )\n",
    "\n",
    "SELECT\n",
    "    album_purchase,\n",
    "    COUNT(invoice_id) number_of_invoices,\n",
    "    ROUND(CAST(count(invoice_id) AS FLOAT) *100 / (\n",
    "                                         SELECT COUNT(*) FROM invoice\n",
    "                                      ), 1) percent\n",
    "FROM\n",
    "   (\n",
    "    SELECT\n",
    "        ifs.*,\n",
    "        CASE\n",
    "            WHEN\n",
    "               (\n",
    "                SELECT t.track_id FROM track t\n",
    "                WHERE t.album_id = (\n",
    "                                    SELECT t2.album_id FROM track t2\n",
    "                                    WHERE t2.track_id = ifs.first_track_id\n",
    "                                 ) \n",
    "\n",
    "                EXCEPT \n",
    "\n",
    "                SELECT il2.track_id FROM invoice_line il2\n",
    "                WHERE il2.invoice_id = ifs.invoice_id\n",
    "               ) IS NULL\n",
    "            AND\n",
    "               (\n",
    "                SELECT il2.track_id FROM invoice_line il2\n",
    "                WHERE il2.invoice_id = ifs.invoice_id\n",
    "\n",
    "                EXCEPT \n",
    "\n",
    "                SELECT t.track_id FROM track t\n",
    "                WHERE t.album_id = (\n",
    "                                    SELECT t2.album_id FROM track t2\n",
    "                                    WHERE t2.track_id = ifs.first_track_id\n",
    "                                   ) \n",
    "                ) IS NULL\n",
    "            THEN \"yes\"\n",
    "            ELSE \"no\"\n",
    "        END AS \"album_purchase\"\n",
    "    FROM invoice_first_track ifs\n",
    "   )\n",
    "GROUP BY album_purchase;"
   ]
  },
  {
   "cell_type": "markdown",
   "metadata": {},
   "source": [
    "- Album purchases represents 18.6% of the sales. Based on this data, we recommend to keep purchasing the whole album, so we don't loose almost a fifth of our sales. Other way to respond this question, would be doing a more deeper study of the album sales, to find out which genre sells most and think about purchasing only albums from the best selling albums genre."
   ]
  },
  {
   "cell_type": "markdown",
   "metadata": {},
   "source": [
    "### 5. Popular artists in playlists\n",
    "- Now, we'll find the most popular artists in playlists in our database. This information can be very useful to decide future purchases.\n",
    "- We'll count how many times each artist is present in a playlist. For that, we'll use the playlist_track, track, album and artist tables."
   ]
  },
  {
   "cell_type": "code",
   "execution_count": 10,
   "metadata": {},
   "outputs": [
    {
     "name": "stdout",
     "output_type": "stream",
     "text": [
      " * sqlite:///chinook.db\n",
      "Done.\n"
     ]
    },
    {
     "data": {
      "text/html": [
       "<table>\n",
       "    <thead>\n",
       "        <tr>\n",
       "            <th>artist</th>\n",
       "            <th>playlists</th>\n",
       "        </tr>\n",
       "    </thead>\n",
       "    <tbody>\n",
       "        <tr>\n",
       "            <td>Eugene Ormandy</td>\n",
       "            <td>7</td>\n",
       "        </tr>\n",
       "        <tr>\n",
       "            <td>The King&#x27;s Singers</td>\n",
       "            <td>6</td>\n",
       "        </tr>\n",
       "        <tr>\n",
       "            <td>English Concert &amp; Trevor Pinnock</td>\n",
       "            <td>6</td>\n",
       "        </tr>\n",
       "        <tr>\n",
       "            <td>Berliner Philharmoniker &amp; Herbert Von Karajan</td>\n",
       "            <td>6</td>\n",
       "        </tr>\n",
       "        <tr>\n",
       "            <td>Academy of St. Martin in the Fields &amp; Sir Neville Marriner</td>\n",
       "            <td>6</td>\n",
       "        </tr>\n",
       "        <tr>\n",
       "            <td>Yo-Yo Ma</td>\n",
       "            <td>5</td>\n",
       "        </tr>\n",
       "        <tr>\n",
       "            <td>Wilhelm Kempff</td>\n",
       "            <td>5</td>\n",
       "        </tr>\n",
       "        <tr>\n",
       "            <td>Ton Koopman</td>\n",
       "            <td>5</td>\n",
       "        </tr>\n",
       "        <tr>\n",
       "            <td>Sir Georg Solti, Sumi Jo &amp; Wiener Philharmoniker</td>\n",
       "            <td>5</td>\n",
       "        </tr>\n",
       "        <tr>\n",
       "            <td>Sir Georg Solti &amp; Wiener Philharmoniker</td>\n",
       "            <td>5</td>\n",
       "        </tr>\n",
       "    </tbody>\n",
       "</table>"
      ],
      "text/plain": [
       "[('Eugene Ormandy', 7),\n",
       " (\"The King's Singers\", 6),\n",
       " ('English Concert & Trevor Pinnock', 6),\n",
       " ('Berliner Philharmoniker & Herbert Von Karajan', 6),\n",
       " ('Academy of St. Martin in the Fields & Sir Neville Marriner', 6),\n",
       " ('Yo-Yo Ma', 5),\n",
       " ('Wilhelm Kempff', 5),\n",
       " ('Ton Koopman', 5),\n",
       " ('Sir Georg Solti, Sumi Jo & Wiener Philharmoniker', 5),\n",
       " ('Sir Georg Solti & Wiener Philharmoniker', 5)]"
      ]
     },
     "execution_count": 10,
     "metadata": {},
     "output_type": "execute_result"
    }
   ],
   "source": [
    "%%sql\n",
    "SELECT\n",
    "        ar.name artist,\n",
    "        COUNT(DISTINCT(pt.playlist_id)) playlists\n",
    "FROM artist ar\n",
    "    INNER JOIN album al ON al.artist_id = ar.artist_id\n",
    "    INNER JOIN track t ON t.album_id = al.album_id\n",
    "    INNER JOIN playlist_track pt ON pt.track_id = t.track_id   \n",
    "GROUP BY 1\n",
    "ORDER BY 2 DESC\n",
    "LIMIT 10;"
   ]
  },
  {
   "cell_type": "markdown",
   "metadata": {},
   "source": [
    "- Looking at the top 10 artists with more playlists, we can see that there is not an expressive number (7 for the number one) that could lead a change in the marketing strategy towards these artists. So the popularity in the playlists is not a good parameter to make businees decisions."
   ]
  },
  {
   "cell_type": "markdown",
   "metadata": {},
   "source": [
    "### 6. Purchased vs. not purchased tracks\n",
    "- Now, we're going to analyze the percentage of purchased and non-purchased tracks.\n",
    "- We'll count the total of tracks and the total of the sold tracks, then get the percentage. We'll use the tracka and invoice_line tables."
   ]
  },
  {
   "cell_type": "code",
   "execution_count": 11,
   "metadata": {},
   "outputs": [
    {
     "name": "stdout",
     "output_type": "stream",
     "text": [
      " * sqlite:///chinook.db\n",
      "Done.\n"
     ]
    },
    {
     "data": {
      "text/html": [
       "<table>\n",
       "    <thead>\n",
       "        <tr>\n",
       "            <th>all_tracks</th>\n",
       "            <th>sold_tracks</th>\n",
       "            <th>pct_sold</th>\n",
       "        </tr>\n",
       "    </thead>\n",
       "    <tbody>\n",
       "        <tr>\n",
       "            <td>3503</td>\n",
       "            <td>1806</td>\n",
       "            <td>51.6</td>\n",
       "        </tr>\n",
       "    </tbody>\n",
       "</table>"
      ],
      "text/plain": [
       "[(3503, 1806, 51.6)]"
      ]
     },
     "execution_count": 11,
     "metadata": {},
     "output_type": "execute_result"
    }
   ],
   "source": [
    "%%sql\n",
    "WITH all_and_sold_tracks AS (SELECT COUNT(DISTINCT(t.track_id)) all_tracks,\n",
    "                             COUNT(DISTINCT(il.track_id)) sold_tracks\n",
    "                         FROM track t\n",
    "                             LEFT JOIN invoice_line il\n",
    "                             ON il.track_id = t.track_id)\n",
    "SELECT all_tracks,\n",
    "       sold_tracks,\n",
    "       ROUND((sold_tracks * 100.0 / all_tracks), 1) pct_sold\n",
    "FROM all_and_sold_tracks;"
   ]
  },
  {
   "cell_type": "markdown",
   "metadata": {},
   "source": [
    "- Knowing the percentage of the sold tracks is an important data. We found that 48,4% of the tracks of the chinook store weren't sold. This number is pretty high and represents a big problem for the business. Possible points of discussion about this could be the strategies of the marketing campaigns, the motivation of the employees (especially the sales support agents), even a better way to choose what tracks to purchase, focusing on the most popular, so we don't have many tracks without selling."
   ]
  },
  {
   "cell_type": "markdown",
   "metadata": {
    "toc-hr-collapsed": true
   },
   "source": [
    "## Data Visualization\n",
    "- On this section, we'll present the queries in graphs or cards to facilitate the visualization of the answers we got from the questions about the store. We'll transform these queries in pandas dataframes and utilize python libraries to build the graphs. "
   ]
  },
  {
   "cell_type": "markdown",
   "metadata": {},
   "source": [
    "### 1. Most popular genres"
   ]
  },
  {
   "cell_type": "code",
   "execution_count": 12,
   "metadata": {},
   "outputs": [],
   "source": [
    "# Setting the matplotlib style\n",
    "style.use(\"fivethirtyeight\")"
   ]
  },
  {
   "cell_type": "code",
   "execution_count": 13,
   "metadata": {},
   "outputs": [
    {
     "name": "stdout",
     "output_type": "stream",
     "text": [
      " * sqlite:///chinook.db\n",
      "Done.\n"
     ]
    }
   ],
   "source": [
    "# Transforming the query in a DataFrame\n",
    "query1 = '''\n",
    "WITH usa_tracks_sold AS\n",
    "   (\n",
    "    SELECT il.* FROM invoice_line il\n",
    "    INNER JOIN invoice i on il.invoice_id = i.invoice_id\n",
    "    INNER JOIN customer c on i.customer_id = c.customer_id\n",
    "    WHERE c.country = \"USA\"\n",
    "   )\n",
    "\n",
    "SELECT\n",
    "    g.name genre,\n",
    "    count(uts.invoice_line_id) tracks_sold,\n",
    "    ROUND(cast(count(uts.invoice_line_id) AS FLOAT) *100 / (\n",
    "        SELECT COUNT(*) from usa_tracks_sold\n",
    "    ),1) percentage_sold\n",
    "FROM usa_tracks_sold uts\n",
    "INNER JOIN track t on t.track_id = uts.track_id\n",
    "INNER JOIN genre g on g.genre_id = t.genre_id\n",
    "GROUP BY 1\n",
    "ORDER BY 2 DESC\n",
    "LIMIT 10;\n",
    "'''\n",
    "result1 = %sql $query1\n",
    "genre_sales = result1.DataFrame()\n",
    "\n",
    "# Resetting the index\n",
    "genre_sales = genre_sales.set_index(\"genre\", drop=True)"
   ]
  },
  {
   "cell_type": "code",
   "execution_count": 14,
   "metadata": {},
   "outputs": [
    {
     "data": {
      "image/png": "[encoded data removed]",
      "text/plain": [
       "<Figure size 432x288 with 1 Axes>"
      ]
     },
     "metadata": {},
     "output_type": "display_data"
    }
   ],
   "source": [
    "# Plotting a graph with the sold tracks by genre\n",
    "fig, ax = plt.subplots()\n",
    "y = genre_sales['percentage_sold'].sort_values()\n",
    "genre_sales['percentage_sold'].sort_values().plot.barh(color='#029386')\n",
    "ax.set_ylabel(None)\n",
    "ax.yaxis.grid(False)\n",
    "ax.xaxis.grid(False)\n",
    "ax.set_xticklabels([])\n",
    "ax.tick_params(axis=\"both\", labelsize=10, left=False)\n",
    "for i, v in enumerate(y):\n",
    "    ax.text(v, i, str(v), color='black', fontsize=10, ha='left', va='center')\n",
    "\n",
    "# Graph title\n",
    "fig.text(x=0.18,y=0.96,s=\"Sold tracks by genre\",size=18, weight=\"bold\")\n",
    "fig.text(x=-0.08,y=0.9,s=\"Rock, Alternative & Punk and Metal represent over 75%\",size=15)\n",
    "\n",
    "#Foot signature/source of graph:\n",
    "fig.text(x=-0.15, y=0.01,s='©Ana Luiza Miranda' +' '*78 +\"Source: Chinook Database\", backgroundcolor=\"#4d4d4d\", size=8, color='#f0f0f0')\n",
    "plt.show()"
   ]
  },
  {
   "cell_type": "markdown",
   "metadata": {},
   "source": [
    "### 2. Employee Sales Performance"
   ]
  },
  {
   "cell_type": "code",
   "execution_count": 15,
   "metadata": {},
   "outputs": [
    {
     "name": "stdout",
     "output_type": "stream",
     "text": [
      " * sqlite:///chinook.db\n",
      "Done.\n"
     ]
    }
   ],
   "source": [
    "# Transforming the query in a DataFrame\n",
    "query2 = '''\n",
    "WITH customer_support_rep_sales AS\n",
    "   (\n",
    "    SELECT\n",
    "        i.customer_id,\n",
    "        c.support_rep_id,\n",
    "        SUM(i.total) total,\n",
    "        ROUND(SUM(i.total), 0) total_sales\n",
    "    FROM invoice i\n",
    "    INNER JOIN customer c ON i.customer_id = c.customer_id\n",
    "    GROUP BY 1,2\n",
    "   )\n",
    "\n",
    "SELECT\n",
    "    e.first_name || \" \" || e.last_name employee,\n",
    "    e.hire_date,\n",
    "    ROUND(SUM(csrs.total), 0) total_sales,\n",
    "    ROUND(SUM(csrs.total) * 100.0 / (SELECT SUM(total_sales)\n",
    "                                    FROM customer_support_rep_sales), 0) pct_sales\n",
    "FROM customer_support_rep_sales csrs\n",
    "INNER JOIN employee e ON e.employee_id = csrs.support_rep_id\n",
    "GROUP BY 1;\n",
    "'''\n",
    "result2 = %sql $query2\n",
    "employee_sales = result2.DataFrame()\n",
    "\n",
    "# Resetting the index\n",
    "employee_sales = employee_sales.set_index(\"employee\", drop=True)"
   ]
  },
  {
   "cell_type": "code",
   "execution_count": 16,
   "metadata": {},
   "outputs": [
    {
     "data": {
      "image/png": "[encoded data removed]",
      "text/plain": [
       "<Figure size 432x288 with 1 Axes>"
      ]
     },
     "metadata": {},
     "output_type": "display_data"
    }
   ],
   "source": [
    "# Plotting a graph with the sales by employee\n",
    "fig, ax = plt.subplots()\n",
    "y = employee_sales['pct_sales'].sort_values()\n",
    "employee_sales['pct_sales'].sort_values().plot.barh(color='#FFA500')\n",
    "ax.set_ylabel(None)\n",
    "ax.yaxis.grid(False)\n",
    "ax.xaxis.grid(False)\n",
    "ax.set_xticklabels([])\n",
    "ax.tick_params(axis=\"both\", labelsize=10, left=False)\n",
    "for i, v in enumerate(y):\n",
    "    ax.text(v, i, str(v), color='black', fontsize=10, ha='left', va='center')\n",
    "\n",
    "# Graph title\n",
    "fig.text(x=0.02,y=0.96,s=\"Total sales by sales support agent\",size=18, weight=\"bold\")\n",
    "fig.text(x=-0.08,y=0.9,s=\"Jane was hired in April, Margaret in May and Steve in October\",size=15)\n",
    "\n",
    "#Foot signature/source of graph:\n",
    "fig.text(x=-0.15, y=0.01,s='©Ana Luiza Miranda' +' '*78 +\"Source: Chinook Database\", backgroundcolor=\"#4d4d4d\", size=8, color='#f0f0f0')\n",
    "plt.show()"
   ]
  },
  {
   "cell_type": "markdown",
   "metadata": {},
   "source": [
    "### 3. Sales and customers by country"
   ]
  },
  {
   "cell_type": "code",
   "execution_count": 17,
   "metadata": {},
   "outputs": [
    {
     "name": "stdout",
     "output_type": "stream",
     "text": [
      " * sqlite:///chinook.db\n",
      "Done.\n"
     ]
    }
   ],
   "source": [
    "# Transforming the query in a DataFrame\n",
    "query3 = '''\n",
    "WITH country_or_other AS\n",
    "   (\n",
    "    SELECT\n",
    "        CASE\n",
    "            WHEN (\n",
    "                  SELECT count(*)\n",
    "                  FROM customer\n",
    "                  where country = c.country\n",
    "                 ) = 1 THEN \"Other\"\n",
    "            ELSE c.country\n",
    "        END AS country,\n",
    "        c.customer_id,\n",
    "        il.*\n",
    "    FROM invoice_line il\n",
    "    INNER JOIN invoice i ON i.invoice_id = il.invoice_id\n",
    "    INNER JOIN customer c ON c.customer_id = i.customer_id\n",
    "   )\n",
    "\n",
    "SELECT\n",
    "    country,\n",
    "    customers,\n",
    "    total_sales,\n",
    "    average_order,\n",
    "    sales_per_customer\n",
    "FROM\n",
    "   (\n",
    "    SELECT\n",
    "        country,\n",
    "        count(distinct customer_id) customers,\n",
    "        SUM(unit_price) total_sales,\n",
    "        SUM(unit_price) / count(distinct customer_id) sales_per_customer,\n",
    "        SUM(unit_price) / count(distinct invoice_id) average_order,\n",
    "        CASE\n",
    "            WHEN country = \"Other\" THEN 1\n",
    "            ELSE 0\n",
    "        END AS sort\n",
    "    FROM country_or_other\n",
    "    GROUP BY country\n",
    "    ORDER BY sort ASC, total_sales DESC\n",
    "   );\n",
    "'''\n",
    "result3 = %sql $query3\n",
    "country_sales = result3.DataFrame()\n",
    "\n",
    "# Resetting the index\n",
    "country_sales = country_sales.set_index(\"country\", drop=True)\n",
    "\n",
    "# Transform customers and total sales columns in percentage\n",
    "pct_country_customers = (country_sales['customers'] *100 / country_sales['customers'].sum()).round(1)\n",
    "pct_country_customers_list = pct_country_customers.tolist()\n",
    "\n",
    "pct_country_total_sales = (country_sales['total_sales'] *100 / country_sales['total_sales'].sum()).round(1)\n",
    "pct_country_total_sales_list = pct_country_total_sales.tolist()"
   ]
  },
  {
   "cell_type": "code",
   "execution_count": 18,
   "metadata": {},
   "outputs": [
    {
     "data": {
      "image/png": "[encoded data removed]",
      "text/plain": [
       "<Figure size 864x504 with 1 Axes>"
      ]
     },
     "metadata": {},
     "output_type": "display_data"
    }
   ],
   "source": [
    "# Plotting a graph with the sales and customers by country\n",
    "fig, ax = plt.subplots(figsize=(12,7))\n",
    "labels = ['USA', 'Canada', 'Brazil', 'France', 'Germany', 'Czech Republic', 'UK', 'Portugal', 'India', 'Other']\n",
    "x = np.arange(len(labels))\n",
    "width = 0.4\n",
    "rects1 = ax.bar(x - width/2, pct_country_total_sales_list, width, label='Sales', color='#008080')\n",
    "rects2 = ax.bar(x + width/2, pct_country_customers_list, width, label='Customers', color='#7fbfbf')\n",
    "ax.set_ylabel(None)\n",
    "ax.yaxis.grid(False)\n",
    "ax.xaxis.grid(False)\n",
    "ax.set_xticks(x)\n",
    "ax.set_xticklabels(labels, size=10, weight='bold')\n",
    "ax.set_yticklabels([])\n",
    "\n",
    "ax.legend()\n",
    "\n",
    "ax.bar_label(rects1, padding=3, size=12)\n",
    "ax.bar_label(rects2, padding=3, size=12)\n",
    "\n",
    "fig.tight_layout()\n",
    "\n",
    "# Graph title\n",
    "fig.text(x=0.28,y=1.01,s=\"Total sales and customers by country\",size=18, weight=\"bold\")\n",
    "fig.text(x=0.18,y=0.97,s=\"USA leads, sales and number of customers have a positive correlation \",size=15)\n",
    "\n",
    "#Foot signature/source of graph:\n",
    "fig.text(x=0.05, y=-0.01,s='©Ana Luiza Miranda' +' '*78 +\"Source: Chinook Database\", backgroundcolor=\"#4d4d4d\", size=8, color='#f0f0f0')\n",
    "\n",
    "plt.show()"
   ]
  },
  {
   "cell_type": "markdown",
   "metadata": {},
   "source": [
    "### 4. Album vs. Individual sales"
   ]
  },
  {
   "cell_type": "code",
   "execution_count": 19,
   "metadata": {},
   "outputs": [
    {
     "name": "stdout",
     "output_type": "stream",
     "text": [
      " * sqlite:///chinook.db\n",
      "Done.\n"
     ]
    }
   ],
   "source": [
    "# Transforming the query in a DataFrame\n",
    "query4 = '''\n",
    "WITH invoice_first_track AS\n",
    "   (\n",
    "    SELECT\n",
    "        il.invoice_id invoice_id,\n",
    "        MIN(il.track_id) first_track_id\n",
    "    FROM invoice_line il\n",
    "    GROUP BY 1\n",
    "   )\n",
    "\n",
    "SELECT\n",
    "    album_purchase,\n",
    "    COUNT(invoice_id) number_of_invoices,\n",
    "    CAST(count(invoice_id) AS FLOAT) / (\n",
    "                                         SELECT COUNT(*) FROM invoice\n",
    "                                      ) percent\n",
    "FROM\n",
    "   (\n",
    "    SELECT\n",
    "        ifs.*,\n",
    "        CASE\n",
    "            WHEN\n",
    "                (\n",
    "                 SELECT t.track_id FROM track t\n",
    "                 WHERE t.album_id = (\n",
    "                                     SELECT t2.album_id FROM track t2\n",
    "                                     WHERE t2.track_id = ifs.first_track_id\n",
    "                                    ) \n",
    "\n",
    "                EXCEPT \n",
    "\n",
    "                   SELECT il2.track_id FROM invoice_line il2\n",
    "                   WHERE il2.invoice_id = ifs.invoice_id\n",
    "                   ) IS NULL\n",
    "            AND\n",
    "                (\n",
    "                 SELECT il2.track_id FROM invoice_line il2\n",
    "                 WHERE il2.invoice_id = ifs.invoice_id\n",
    "\n",
    "                 EXCEPT \n",
    "\n",
    "                 SELECT t.track_id FROM track t\n",
    "                 WHERE t.album_id = (\n",
    "                                     SELECT t2.album_id FROM track t2\n",
    "                                     WHERE t2.track_id = ifs.first_track_id\n",
    "                                    ) \n",
    "                 ) IS NULL\n",
    "            THEN \"yes\"\n",
    "            ELSE \"no\"\n",
    "        END AS \"album_purchase\"\n",
    "    FROM invoice_first_track ifs\n",
    "   )\n",
    "GROUP BY album_purchase;\n",
    "'''\n",
    "result4 = %sql $query4\n",
    "album_vs_individual = result4.DataFrame()\n",
    "\n",
    "# Resetting the index\n",
    "album_vs_individual = album_vs_individual.set_index(\"album_purchase\", drop=True)\n",
    "\n",
    "# Adjusting the percent column\n",
    "album_vs_individual['percent'] = (album_vs_individual['percent']*100).round(1)"
   ]
  },
  {
   "cell_type": "code",
   "execution_count": 20,
   "metadata": {},
   "outputs": [
    {
     "data": {
      "image/png": "[encoded data removed]",
      "text/plain": [
       "<Figure size 432x288 with 1 Axes>"
      ]
     },
     "metadata": {},
     "output_type": "display_data"
    }
   ],
   "source": [
    "# Plotting a graph with the album and individual sales\n",
    "fig, ax = plt.subplots()\n",
    "y = album_vs_individual['percent'].sort_values().round(1)\n",
    "album_vs_individual['percent'].sort_values().round(1).plot.bar(color='#A9561E')\n",
    "ax.set_ylabel(None)\n",
    "ax.set_xlabel(None)\n",
    "ax.yaxis.grid(False)\n",
    "ax.xaxis.grid(False)\n",
    "ax.set_yticks([20,80])\n",
    "ax.set_yticklabels([20,80])\n",
    "ax.set_xticklabels(['Album','Individual Track'], rotation='horizontal')\n",
    "ax.tick_params(axis=\"both\", labelsize=10, left=False)\n",
    "\n",
    "# Graph title\n",
    "fig.text(x=0.04,y=0.95,s=\"Album sales vs. Individual track sales\",size=18, weight=\"bold\")\n",
    "\n",
    "#Foot signature/source of graph:\n",
    "fig.text(x=0, y=-0.025,s='©Ana Luiza Miranda' +' '*78 +\"Source: Chinook Database\", backgroundcolor=\"#4d4d4d\", size=8, color='#f0f0f0')\n",
    "plt.show()"
   ]
  },
  {
   "cell_type": "markdown",
   "metadata": {},
   "source": [
    "### 5. Popular artists in playslists"
   ]
  },
  {
   "cell_type": "code",
   "execution_count": 21,
   "metadata": {},
   "outputs": [
    {
     "name": "stdout",
     "output_type": "stream",
     "text": [
      " * sqlite:///chinook.db\n",
      "Done.\n"
     ]
    }
   ],
   "source": [
    "# Transforming the query in a DataFrame\n",
    "query5 = '''\n",
    "SELECT\n",
    "      ar.name artist,\n",
    "      COUNT(DISTINCT(pt.playlist_id)) playlists\n",
    "FROM artist ar\n",
    "    INNER JOIN album al ON al.artist_id = ar.artist_id\n",
    "    INNER JOIN track t ON t.album_id = al.album_id\n",
    "    INNER JOIN playlist_track pt ON pt.track_id = t.track_id   \n",
    "GROUP BY 1\n",
    "ORDER BY 2 DESC\n",
    "LIMIT 10;\n",
    "'''\n",
    "result5 = %sql $query5\n",
    "artists_in_playlists = result5.DataFrame()\n",
    "\n",
    "# Resetting the index\n",
    "artists_in_playlists = artists_in_playlists.set_index(\"artist\", drop=True)"
   ]
  },
  {
   "cell_type": "code",
   "execution_count": 22,
   "metadata": {},
   "outputs": [
    {
     "data": {
      "image/png": "[encoded data removed]",
      "text/plain": [
       "<Figure size 432x288 with 1 Axes>"
      ]
     },
     "metadata": {},
     "output_type": "display_data"
    }
   ],
   "source": [
    "# Plotting a graph with the artists in playlists\n",
    "fig, ax = plt.subplots()\n",
    "y = artists_in_playlists['playlists'].sort_values()\n",
    "artists_in_playlists['playlists'].sort_values().plot.barh(color='#FFA500')\n",
    "ax.set_ylabel(None)\n",
    "ax.yaxis.grid(False)\n",
    "ax.xaxis.grid(False)\n",
    "ax.set_xticklabels([])\n",
    "ax.tick_params(axis=\"both\", labelsize=10, left=False)\n",
    "for i, v in enumerate(y):\n",
    "    ax.text(v, i, str(v), color='black', fontsize=10, ha='left', va='center')\n",
    "\n",
    "# Graph title\n",
    "fig.text(x=-0.1,y=0.96,s=\"Artists in most playlists\",size=18, weight=\"bold\")\n",
    "\n",
    "#Foot signature/source of graph:\n",
    "fig.text(x=-0.55, y=0.01,s='©Ana Luiza Miranda' +' '*78 +\"Source: Chinook Database\", backgroundcolor=\"#4d4d4d\", size=8, color='#f0f0f0')\n",
    "plt.show()"
   ]
  },
  {
   "cell_type": "markdown",
   "metadata": {},
   "source": [
    "### 6. Purchased tracks"
   ]
  },
  {
   "cell_type": "code",
   "execution_count": 23,
   "metadata": {},
   "outputs": [
    {
     "name": "stdout",
     "output_type": "stream",
     "text": [
      " * sqlite:///chinook.db\n",
      "Done.\n"
     ]
    }
   ],
   "source": [
    "# Transforming the query in a DataFrame\n",
    "query6 = '''\n",
    "WITH all_and_sold_tracks AS (SELECT COUNT(DISTINCT(t.track_id)) all_tracks,\n",
    "                            COUNT(DISTINCT(il.track_id)) sold_tracks\n",
    "                         FROM track t\n",
    "                            LEFT JOIN invoice_line il\n",
    "                            ON il.track_id = t.track_id)\n",
    "SELECT all_tracks,\n",
    "       sold_tracks,\n",
    "       ROUND((sold_tracks * 100.0 / all_tracks), 1) pct_sold\n",
    "FROM all_and_sold_tracks;\n",
    "'''\n",
    "\n",
    "result6 = %sql $query6\n",
    "sold_tracks = result6.DataFrame()"
   ]
  },
  {
   "cell_type": "code",
   "execution_count": 24,
   "metadata": {},
   "outputs": [
    {
     "data": {
      "image/png": "[encoded data removed]",
      "text/plain": [
       "<Figure size 288x288 with 1 Axes>"
      ]
     },
     "metadata": {},
     "output_type": "display_data"
    }
   ],
   "source": [
    "# Plotting a card with the percentage of sales\n",
    "fig, ax = plt.subplots(figsize=(4,4))\n",
    "ax.yaxis.grid(False)\n",
    "ax.xaxis.grid(False)\n",
    "ax.set_ylabel(None)\n",
    "ax.set_xlabel(None)\n",
    "ax.set_xticklabels([])\n",
    "ax.set_yticklabels([])\n",
    "fig.text(x=0.25, y=0.5,s='51,6%', backgroundcolor=\"#949494\", size=52.5, color='#f0f0f0')\n",
    "fig.text(x=0.223, y=0.4,s='   tracks sold   ', backgroundcolor=\"#949494\", size=24.8, color='#f0f0f0')\n",
    "\n",
    "# Card title\n",
    "fig.text(x=0.075, y=0.75, s=\"Percentage of sales\", size=25, weight=\"bold\")\n",
    "\n",
    "#Foot signature/source of graph:\n",
    "fig.text(x=0, y=0.25,s='©Ana Luiza Miranda' +' '*45 +\"Source: Chinook Database\", backgroundcolor=\"#4d4d4d\", size=8, color='#f0f0f0')\n",
    "plt.show()"
   ]
  },
  {
   "cell_type": "markdown",
   "metadata": {},
   "source": [
    "## Conclusion"
   ]
  },
  {
   "cell_type": "markdown",
   "metadata": {},
   "source": [
    "- In this project, we answered business questions about a fictional digital music store, Chinook. We used a database with eleven tables containing information about the customers, sales, employees and the music (tracks, playlists, albums and artists).\n",
    "- Our main goal was to provide information about the store to our department heads and the new partners of a different record label.\n",
    "- In the Exploratory Data Analysis section, we answered six questions about the store, we'll list the answers that we found:\n",
    "    1. Between the list of four that we receive, we should choose: Red Tone (Punk); Slim Jim Bites (Blues); Meteor and the Girls (Pop). Besides that, we recommend to look for artists and albums in the Rock genre, that represents more than 50% of the US sales.\n",
    "    2. We can see that the total sales of each employee is balanced, but we should consider that the employee that sells most (Jane Peacock) was hired six months before the third employee (Steve Johnson).\n",
    "    3. Analyzsing the total of sales and the number of customers of all countries, the USA takes the lead in both categories.\n",
    "    4. Album purchases represents 18.6% of the sales. Based on this data, we recommend to keep purchasing the whole album, so we don't loose almost a fifth of our sales.\n",
    "    5. Looking at the top 10 artists with more playlists, we can see that there is not an expressive number (7 for the number one) that could lead a change in the marketing strategy towards these artists.\n",
    "    6. We found that 48,4% of the tracks of the chinook store weren't sold. This number is pretty high and represents a big problem for the business.\n",
    "- In the Data Visualization section, we showed graphs and a card with the results of the queries we built in our analysis."
   ]
  }
 ],
 "metadata": {
  "kernelspec": {
   "display_name": "Python 3 (ipykernel)",
   "language": "python",
   "name": "python3"
  },
  "language_info": {
   "codemirror_mode": {
    "name": "ipython",
    "version": 3
   },
   "file_extension": ".py",
   "mimetype": "text/x-python",
   "name": "python",
   "nbconvert_exporter": "python",
   "pygments_lexer": "ipython3",
   "version": "3.9.7"
  }
 },
 "nbformat": 4,
 "nbformat_minor": 4
}
